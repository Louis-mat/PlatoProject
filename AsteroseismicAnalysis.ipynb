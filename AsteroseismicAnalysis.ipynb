{
 "cells": [
  {
   "cell_type": "code",
   "execution_count": 1,
   "metadata": {},
   "outputs": [],
   "source": [
    "import numpy as np"
   ]
  },
  {
   "cell_type": "code",
   "execution_count": 2,
   "metadata": {},
   "outputs": [],
   "source": [
    "nu_max_sun = 3090\n",
    "D_nu_sun = 135.1\n",
    "Teff_sun = 5777\n",
    "\n",
    "def stellarParameters(nu_max, D_nu, Teff):\n",
    "    \n",
    "    R = (D_nu_sun/D_nu)**2 * (nu_max/nu_max_sun) * (Teff/Teff_sun)**(1/2)     ## in solar radius\n",
    "    M = (D_nu_sun/D_nu)**4 * (nu_max/nu_max_sun)**3 * (Teff/Teff_sun)**(3/2)  ## in solar mass\n",
    "    \n",
    "    return(M, R);"
   ]
  },
  {
   "cell_type": "code",
   "execution_count": 3,
   "metadata": {},
   "outputs": [],
   "source": [
    "def peaksInDomain(frequency, flux, level, beginDomain, endDomain): ## RETURNS the frequency and amplitude of peaks\n",
    "                                                                    ## above a certain LEVEL in a given frequency DOMAIN \n",
    "    frequencies = []                                                 ## (beginDomain-endDomain) \n",
    "    amplitudes = []\n",
    "    indices = []\n",
    "    max_frequency = 0                                                 ## RETURNS the frequency of the maximum in this DOMAIN \n",
    "    maximum = 0\n",
    "    \n",
    "    delta = frequency[1]-frequency[0]\n",
    "    start = int(beginDomain//delta)\n",
    "    stop = int(endDomain//delta)\n",
    "    \n",
    "    for i in range(start, stop):\n",
    "        if flux[i] >= level:\n",
    "            frequencies.append(frequency[i])\n",
    "            amplitudes.append(flux[i])\n",
    "            indices.append(i)\n",
    "            if flux[i] > maximum:\n",
    "                maximum = flux[i]\n",
    "                max_frequency = frequency[i]\n",
    "\n",
    "    return(frequencies, amplitudes, indices, max_frequency); ## indices is minder belangrijk, kan weggelaten worden"
   ]
  },
  {
   "cell_type": "code",
   "execution_count": null,
   "metadata": {},
   "outputs": [],
   "source": []
  }
 ],
 "metadata": {
  "kernelspec": {
   "display_name": "Python 3",
   "language": "python",
   "name": "python3"
  },
  "language_info": {
   "codemirror_mode": {
    "name": "ipython",
    "version": 3
   },
   "file_extension": ".py",
   "mimetype": "text/x-python",
   "name": "python",
   "nbconvert_exporter": "python",
   "pygments_lexer": "ipython3",
   "version": "3.7.4"
  }
 },
 "nbformat": 4,
 "nbformat_minor": 2
}
