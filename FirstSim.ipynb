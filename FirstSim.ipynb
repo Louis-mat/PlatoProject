{
 "cells": [
  {
   "cell_type": "code",
   "execution_count": null,
   "metadata": {},
   "outputs": [],
   "source": [
    "#### GENERAL ####\n",
    "\n",
    "# Alow changes to the PlatoSim code outside this notebook\n",
    "%load_ext autoreload\n",
    "%autoreload 2\n",
    "\n",
    "# To interact with the plot use\n",
    "%matplotlib notebook\n",
    "\n",
    "import os\n",
    "import numpy as np\n",
    "import matplotlib.pyplot as plt\n",
    "\n",
    "# PlatoSim\n",
    "import platosim.referenceFrames as rf\n",
    "from platosim.utilities    import getFunctions\n",
    "from platosim.simulation   import Simulation\n",
    "from platosim.simfile      import SimFile\n",
    "from platosim.matplotlibrc import setup_notebook\n",
    "setup_notebook()\n",
    "\n",
    "# Inputs\n",
    "outputFileName = \"16CygA_test\"\n",
    "outputDir=os.getcwd()\n",
    "sim = Simulation(outputFileName, outputDir=os.getcwd())"
   ]
  },
  {
   "cell_type": "code",
   "execution_count": null,
   "metadata": {},
   "outputs": [],
   "source": [
    "sim[\"ObservingParameters/RApointing\"]   = 83.0\n",
    "sim[\"ObservingParameters/DecPointing\"]  = 13.0\n",
    "sim[\"Platform/SolarPanelOrientation\"]   = 180.0\n",
    "\n",
    "sim[\"SubField/ZeroPointRow\"]    = 3000\n",
    "sim[\"SubField/ZeroPointColumn\"] = 3000\n",
    "sim[\"SubField/NumColumns\"]      = 50\n",
    "sim[\"SubField/NumRows\"]         = 50\n",
    "\n",
    "sim[\"Sky/SkyBackground\"]    = -1\n",
    "\n",
    "# Define catalogue\n",
    "row = np.array([28.0]) + sim[\"SubField/ZeroPointRow\"]\n",
    "col = np.array([28.0]) + sim[\"SubField/ZeroPointColumn\"]\n",
    "mag = np.array([6.20])\n",
    "ID  = [0]\n",
    "\n",
    "# Automatic catalogue file creation\n",
    "starcatFile = outputDir + \"/16cyg_example.txt\"\n",
    "sim.createStarCatalogFileFromPixelCoordinates(row, col, mag, ID, starcatFile)\n",
    "row, col\n",
    "\n",
    "# Make sure the simulation object uses this star catalog\n",
    "sim[\"ObservingParameters/StarCatalogFile\"] = starcatFile"
   ]
  },
  {
   "cell_type": "code",
   "execution_count": null,
   "metadata": {},
   "outputs": [],
   "source": [
    "photometryFile = os.getcwd() + \"/photometry.txt\"\n",
    "sim.createPhotometryTargetFile(ID, photometryFile)\n",
    "\n",
    "sim[\"ObservingParameters/NumExposures\"] = 100\n",
    "sim[\"Photometry/IncludePhotometry\"]     = True"
   ]
  },
  {
   "cell_type": "code",
   "execution_count": null,
   "metadata": {},
   "outputs": [],
   "source": []
  },
  {
   "cell_type": "code",
   "execution_count": null,
   "metadata": {},
   "outputs": [],
   "source": [
    "# Run the simulation\n",
    "simfile = sim.run(removeOutputFile=True)"
   ]
  },
  {
   "cell_type": "code",
   "execution_count": null,
   "metadata": {},
   "outputs": [],
   "source": []
  },
  {
   "cell_type": "code",
   "execution_count": null,
   "metadata": {},
   "outputs": [],
   "source": [
    "f = SimFile(\"16CygA_test\" + \".hdf5\")\n",
    "\n",
    "f.reload()\n",
    "\n",
    "imageNr = 0"
   ]
  },
  {
   "cell_type": "code",
   "execution_count": null,
   "metadata": {},
   "outputs": [],
   "source": [
    "#image      = f.getImage(imageNr)\n",
    "#numRows    = f.getInputParameter(\"SubField\", \"NumRows\")\n",
    "#numColumns = f.getInputParameter(\"SubField\", \"NumColumns\")\n",
    "\n",
    "#fig, ax = f.showImage(imageNr, clipPercentile=1, imgScale=\"clip\",\n",
    "                      #figsize=(8,8), fontSize=15, useTitle=False,\n",
    "                      #showStarPositions=True, showStarIDs=False,\n",
    "                      #colorMap=\"magma\", colorBar=True, showGrid=True) "
   ]
  },
  {
   "cell_type": "code",
   "execution_count": null,
   "metadata": {},
   "outputs": [],
   "source": []
  },
  {
   "cell_type": "code",
   "execution_count": null,
   "metadata": {},
   "outputs": [],
   "source": [
    "from platosim.h5 import h5get, h5ls\n",
    "\n",
    "import h5py\n",
    "h5file = h5py.File(\"16CygA_test\" + \".hdf5\", 'r')"
   ]
  },
  {
   "cell_type": "code",
   "execution_count": null,
   "metadata": {},
   "outputs": [],
   "source": [
    "#h5ls(h5file)"
   ]
  },
  {
   "cell_type": "code",
   "execution_count": null,
   "metadata": {},
   "outputs": [],
   "source": [
    "est_flux = h5get(h5file,'Photometry/Lightcurves/starID0/estimatedFlux' )\n",
    "observations = np.linspace(0,100,100)"
   ]
  },
  {
   "cell_type": "code",
   "execution_count": null,
   "metadata": {},
   "outputs": [],
   "source": [
    "#plt.plot(observations, est_flux)\n",
    "#plt.show()"
   ]
  },
  {
   "cell_type": "code",
   "execution_count": null,
   "metadata": {},
   "outputs": [],
   "source": []
  },
  {
   "cell_type": "code",
   "execution_count": null,
   "metadata": {},
   "outputs": [],
   "source": [
    "missionDuration = 6.5 * 24 * 60 * 60 ## seconds\n",
    "missionDuration/25\n",
    "\n",
    "samplingRate = 100/25\n",
    "N = 100\n",
    "\n",
    "yf = np.abs(np.fft.fft(est_flux)[0:50])\n",
    "xf = np.fft.fftfreq(N, 1/samplingRate)[0:50]"
   ]
  },
  {
   "cell_type": "code",
   "execution_count": null,
   "metadata": {},
   "outputs": [],
   "source": [
    "fig = plt.subplots(nrows=1, ncols=1, dpi=120, figsize=(5,4))\n",
    "\n",
    "plt.plot(xf, yf, linewidth=0.5)\n",
    "plt.yscale('log')\n",
    "plt.yticks(fontsize=10)\n",
    "plt.xticks(fontsize=10)\n",
    "\n",
    "\n",
    "plt.ylabel('Amplitude', size=12)\n",
    "plt.xlabel('Frequency [µHz]', size=12)\n",
    "\n",
    "plt.show()"
   ]
  }
 ],
 "metadata": {
  "kernelspec": {
   "display_name": "Python 3",
   "language": "python",
   "name": "python3"
  },
  "language_info": {
   "codemirror_mode": {
    "name": "ipython",
    "version": 3
   },
   "file_extension": ".py",
   "mimetype": "text/x-python",
   "name": "python",
   "nbconvert_exporter": "python",
   "pygments_lexer": "ipython3",
   "version": "3.7.4"
  }
 },
 "nbformat": 4,
 "nbformat_minor": 2
}
